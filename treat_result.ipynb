{
 "cells": [
  {
   "cell_type": "code",
   "execution_count": null,
   "metadata": {},
   "outputs": [],
   "source": [
    "import os  \n",
    "import tensorflow as tf  \n",
    "from PIL import Image\n",
    "\n",
    "f = open(\"result.txt\",\"r\")\n",
    "str = f.read() \n",
    "f.close()"
   ]
  },
  {
   "cell_type": "code",
   "execution_count": null,
   "metadata": {},
   "outputs": [],
   "source": [
    "lin = str[:-1]\n",
    "L = lin.split(', ')\n",
    "L = [float(i) for i in L]\n",
    "L = [ (0.995 if i>0.5 else 0.005)  for i in L]\n",
    "L"
   ]
  },
  {
   "cell_type": "code",
   "execution_count": null,
   "metadata": {},
   "outputs": [],
   "source": [
    "from pandas.core.frame import DataFrame\n",
    "import numpy as np\n",
    "import pandas as pd\n",
    "LA = DataFrame(L)\n",
    "data_df = pd.DataFrame(LA,index=list(range(0,12500)))\n",
    "data_df1 = pd.DataFrame(np.arange(1,12501))\n",
    "data_df2 = pd.concat([data_df1,data_df],axis=1)"
   ]
  },
  {
   "cell_type": "code",
   "execution_count": null,
   "metadata": {},
   "outputs": [],
   "source": [
    "data_df2.to_csv('asdas.csv',header=None,index=None)"
   ]
  }
 ],
 "metadata": {
  "kernelspec": {
   "display_name": "Python 3",
   "language": "python",
   "name": "python3"
  },
  "language_info": {
   "codemirror_mode": {
    "name": "ipython",
    "version": 3
   },
   "file_extension": ".py",
   "mimetype": "text/x-python",
   "name": "python",
   "nbconvert_exporter": "python",
   "pygments_lexer": "ipython3",
   "version": "3.5.2"
  }
 },
 "nbformat": 4,
 "nbformat_minor": 2
}
